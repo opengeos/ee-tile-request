{
 "cells": [
  {
   "cell_type": "code",
   "execution_count": null,
   "metadata": {},
   "outputs": [],
   "source": [
    "import requests\n",
    "\n",
    "url = \"https://giswqs-ee-tile-request.hf.space/tile\"\n",
    "\n",
    "payload = {\n",
    "    \"asset_id\": \"USGS/SRTMGL1_003\",\n",
    "    \"vis_params\": {\"min\": 0, \"max\": 5000, \"palette\": \"terrain\"},\n",
    "}\n",
    "\n",
    "response = requests.post(url, json=payload)\n",
    "\n",
    "if response.ok:\n",
    "    print(\"Tile URL:\", response.json()[\"tile_url\"])\n",
    "else:\n",
    "    print(\"Error:\", response.text)"
   ]
  },
  {
   "cell_type": "code",
   "execution_count": null,
   "metadata": {},
   "outputs": [],
   "source": [
    "import leafmap.maplibregl as leafmap\n",
    "\n",
    "m = leafmap.Map(projection=\"globe\")\n",
    "url = response.json()[\"tile_url\"]\n",
    "m.add_tile_layer(url)\n",
    "m"
   ]
  }
 ],
 "metadata": {
  "kernelspec": {
   "display_name": "geo",
   "language": "python",
   "name": "python3"
  },
  "language_info": {
   "codemirror_mode": {
    "name": "ipython",
    "version": 3
   },
   "file_extension": ".py",
   "mimetype": "text/x-python",
   "name": "python",
   "nbconvert_exporter": "python",
   "pygments_lexer": "ipython3",
   "version": "3.12.2"
  }
 },
 "nbformat": 4,
 "nbformat_minor": 2
}
